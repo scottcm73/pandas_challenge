{
 "cells": [
  {
   "cell_type": "markdown",
   "metadata": {},
   "source": [
    "### Note\n",
    "* Instructions have been included for each segment. You do not have to follow them exactly, but they are included to help you think through the steps."
   ]
  },
  {
   "cell_type": "code",
   "execution_count": 10,
   "metadata": {},
   "outputs": [
    {
     "name": "stdout",
     "output_type": "stream",
     "text": [
      "   Purchase ID             SN  Age Gender  Item ID  \\\n",
      "0            0        Lisim78   20   Male      108   \n",
      "1            1    Lisovynya38   40   Male      143   \n",
      "2            2     Ithergue48   24   Male       92   \n",
      "3            3  Chamassasya86   24   Male      100   \n",
      "4            4      Iskosia90   23   Male      131   \n",
      "\n",
      "                                   Item Name  Price  \n",
      "0  Extraction, Quickblade Of Trembling Hands   3.53  \n",
      "1                          Frenzied Scimitar   1.56  \n",
      "2                               Final Critic   4.88  \n",
      "3                                Blindscythe   3.27  \n",
      "4                                       Fury   1.44  \n"
     ]
    }
   ],
   "source": [
    "# Dependencies and Setup\n",
    "import pandas as pd\n",
    "import os\n",
    "\n",
    "# File to Load (Remember to Change These)\n",
    "file_to_load =os.path.join('Resources', 'purchase_data.csv')\n",
    "\n",
    "# Read Purchasing File and store into Pandas data frame\n",
    "purchase_df = pd.read_csv(file_to_load)\n",
    "purchase_df_copy=purchase_df\n",
    "\n",
    "print(purchase_df.head())"
   ]
  },
  {
   "cell_type": "markdown",
   "metadata": {},
   "source": [
    "## Player Count"
   ]
  },
  {
   "cell_type": "markdown",
   "metadata": {},
   "source": [
    "* Display the total number of players\n"
   ]
  },
  {
   "cell_type": "code",
   "execution_count": 11,
   "metadata": {},
   "outputs": [
    {
     "name": "stdout",
     "output_type": "stream",
     "text": [
      "576\n"
     ]
    }
   ],
   "source": [
    "total_num_players=purchase_df['SN'].nunique()\n",
    "print(total_num_players)"
   ]
  },
  {
   "cell_type": "markdown",
   "metadata": {},
   "source": [
    "## Purchasing Analysis (Total)"
   ]
  },
  {
   "cell_type": "markdown",
   "metadata": {},
   "source": [
    "* Run basic calculations to obtain number of unique items, average price, etc.\n",
    "\n",
    "\n",
    "* Create a summary data frame to hold the results\n",
    "\n",
    "\n",
    "* Optional: give the displayed data cleaner formatting\n",
    "\n",
    "\n",
    "* Display the summary data frame\n"
   ]
  },
  {
   "cell_type": "code",
   "execution_count": 12,
   "metadata": {
    "scrolled": true
   },
   "outputs": [
    {
     "name": "stdout",
     "output_type": "stream",
     "text": [
      "         unique_items  average_price  total_purchase_num  revenue_total\n",
      "results           183      13.004208                 780        2379.77\n"
     ]
    }
   ],
   "source": [
    "num_unique_items=purchase_df['Item ID'].nunique()\n",
    "\n",
    "\n",
    "average_item_price=(purchase_df['Price'].sum())/num_unique_items\n",
    "\n",
    "#This assumes that for each purchase there is an SN\n",
    "total_num_purchases=purchase_df['SN'].count()\n",
    "\n",
    "total_revenue=purchase_df['Price'].sum()\n",
    "\n",
    "\n",
    "summary_dict={'unique_items': num_unique_items, \n",
    "              'average_price': average_item_price, \n",
    "              'total_purchase_num': total_num_purchases, \n",
    "              'revenue_total': total_revenue\n",
    "             }\n",
    "summary_df=pd.DataFrame(summary_dict, index=['results'])\n",
    "print(summary_df)"
   ]
  },
  {
   "cell_type": "markdown",
   "metadata": {},
   "source": [
    "## Gender Demographics"
   ]
  },
  {
   "cell_type": "markdown",
   "metadata": {},
   "source": [
    "* Percentage and Count of Male Players\n",
    "\n",
    "\n",
    "* Percentage and Count of Female Players\n",
    "\n",
    "\n",
    "* Percentage and Count of Other / Non-Disclosed\n",
    "\n",
    "\n"
   ]
  },
  {
   "cell_type": "code",
   "execution_count": 13,
   "metadata": {},
   "outputs": [
    {
     "name": "stdout",
     "output_type": "stream",
     "text": [
      "Gender\n",
      "Female                    81\n",
      "Male                     484\n",
      "Other / Non-Disclosed     11\n",
      "Name: SN, dtype: int64\n",
      "Gender\n",
      "Female                   0.140625\n",
      "Male                     0.840278\n",
      "Other / Non-Disclosed    0.019097\n",
      "Name: SN, dtype: float64\n"
     ]
    }
   ],
   "source": [
    "gender_count_series=purchase_df.groupby('Gender')['SN'].nunique()\n",
    "gender_percent_series=(purchase_df.groupby('Gender')['SN'].nunique())/total_num_players\n",
    "print(gender_count_series) \n",
    "print (gender_percent_series)"
   ]
  },
  {
   "cell_type": "markdown",
   "metadata": {},
   "source": [
    "\n",
    "## Purchasing Analysis (Gender)"
   ]
  },
  {
   "cell_type": "code",
   "execution_count": 28,
   "metadata": {},
   "outputs": [
    {
     "name": "stdout",
     "output_type": "stream",
     "text": [
      "                       puchase_count_by_gender  price_mean_by_gender  \\\n",
      "Gender                                                                 \n",
      "Female                                     113              3.203009   \n",
      "Male                                       652              3.017853   \n",
      "Other / Non-Disclosed                       15              3.346000   \n",
      "\n",
      "                       price_sum_by_gender  price_max_by_gender  \n",
      "Gender                                                           \n",
      "Female                              361.94                 4.90  \n",
      "Male                               1967.64                 4.99  \n",
      "Other / Non-Disclosed                50.19                 4.75  \n",
      "                                     puchase_count_by_person  \\\n",
      "Gender                SN                                       \n",
      "Female                Adastirin33                          1   \n",
      "                      Aerithllora36                        2   \n",
      "                      Aethedru70                           1   \n",
      "                      Aidain51                             1   \n",
      "                      Aiduesu86                            1   \n",
      "...                                                      ...   \n",
      "Other / Non-Disclosed Lirtim36                             1   \n",
      "                      Maluncil97                           2   \n",
      "                      Rairith81                            1   \n",
      "                      Siarithria38                         2   \n",
      "                      Sundim98                             1   \n",
      "\n",
      "                                     price_mean_by_person  \\\n",
      "Gender                SN                                    \n",
      "Female                Adastirin33                   4.480   \n",
      "                      Aerithllora36                 4.320   \n",
      "                      Aethedru70                    3.540   \n",
      "                      Aidain51                      3.450   \n",
      "                      Aiduesu86                     4.480   \n",
      "...                                                   ...   \n",
      "Other / Non-Disclosed Lirtim36                      1.330   \n",
      "                      Maluncil97                    2.640   \n",
      "                      Rairith81                     2.220   \n",
      "                      Siarithria38                  3.455   \n",
      "                      Sundim98                      4.750   \n",
      "\n",
      "                                     price_sum_by_person  price_max_by_person  \n",
      "Gender                SN                                                       \n",
      "Female                Adastirin33                   4.48                 4.48  \n",
      "                      Aerithllora36                 8.64                 4.90  \n",
      "                      Aethedru70                    3.54                 3.54  \n",
      "                      Aidain51                      3.45                 3.45  \n",
      "                      Aiduesu86                     4.48                 4.48  \n",
      "...                                                  ...                  ...  \n",
      "Other / Non-Disclosed Lirtim36                      1.33                 1.33  \n",
      "                      Maluncil97                    5.28                 3.10  \n",
      "                      Rairith81                     2.22                 2.22  \n",
      "                      Siarithria38                  6.91                 3.81  \n",
      "                      Sundim98                      4.75                 4.75  \n",
      "\n",
      "[576 rows x 4 columns]\n"
     ]
    }
   ],
   "source": [
    "# Run basic calculations to obtain purchase count, avg. purchase price, avg. purchase total per person etc. by gender\n",
    "\n",
    "\n",
    "\n",
    "\n",
    "gender_df = purchase_df.groupby('Gender').agg({'Price': ['count', 'mean', 'sum', 'max']})\n",
    "gender_df.columns = ['puchase_count_by_gender', 'price_mean_by_gender', 'price_sum_by_gender', 'price_max_by_gender']\n",
    "\n",
    "print(gender_df)\n",
    "\n",
    "\n",
    "player_df = purchase_df.groupby(['Gender', 'SN']).agg({'Price': ['count', 'mean', 'sum', 'max']})\n",
    "player_df.columns = ['puchase_count_by_person', 'price_mean_by_person', 'price_sum_by_person', 'price_max_by_person']\n",
    "\n",
    "print(player_df)\n",
    "\n"
   ]
  },
  {
   "cell_type": "code",
   "execution_count": null,
   "metadata": {},
   "outputs": [],
   "source": [
    "\n",
    "                                                       \n"
   ]
  },
  {
   "cell_type": "markdown",
   "metadata": {},
   "source": [
    "## Age Demographics"
   ]
  },
  {
   "cell_type": "markdown",
   "metadata": {},
   "source": [
    "* Establish bins for ages\n",
    "\n",
    "\n",
    "* Categorize the existing players using the age bins. Hint: use pd.cut()\n",
    "\n",
    "\n",
    "* Calculate the numbers and percentages by age group\n",
    "\n",
    "\n",
    "* Create a summary data frame to hold the results\n",
    "\n",
    "\n",
    "* Optional: round the percentage column to two decimal points\n",
    "\n",
    "\n",
    "* Display Age Demographics Table\n"
   ]
  },
  {
   "cell_type": "code",
   "execution_count": null,
   "metadata": {},
   "outputs": [],
   "source": []
  },
  {
   "cell_type": "markdown",
   "metadata": {},
   "source": [
    "## Purchasing Analysis (Age)"
   ]
  },
  {
   "cell_type": "markdown",
   "metadata": {},
   "source": [
    "* Bin the purchase_data data frame by age\n",
    "\n",
    "\n",
    "* Run basic calculations to obtain purchase count, avg. purchase price, avg. purchase total per person etc. in the table below\n",
    "\n",
    "\n",
    "* Create a summary data frame to hold the results\n",
    "\n",
    "\n",
    "* Optional: give the displayed data cleaner formatting\n",
    "\n",
    "\n",
    "* Display the summary data frame"
   ]
  },
  {
   "cell_type": "code",
   "execution_count": null,
   "metadata": {},
   "outputs": [],
   "source": []
  },
  {
   "cell_type": "markdown",
   "metadata": {},
   "source": [
    "## Top Spenders"
   ]
  },
  {
   "cell_type": "markdown",
   "metadata": {},
   "source": [
    "* Run basic calculations to obtain the results in the table below\n",
    "\n",
    "\n",
    "* Create a summary data frame to hold the results\n",
    "\n",
    "\n",
    "* Sort the total purchase value column in descending order\n",
    "\n",
    "\n",
    "* Optional: give the displayed data cleaner formatting\n",
    "\n",
    "\n",
    "* Display a preview of the summary data frame\n",
    "\n"
   ]
  },
  {
   "cell_type": "code",
   "execution_count": null,
   "metadata": {},
   "outputs": [],
   "source": []
  },
  {
   "cell_type": "markdown",
   "metadata": {},
   "source": [
    "## Most Popular Items"
   ]
  },
  {
   "cell_type": "markdown",
   "metadata": {},
   "source": [
    "* Retrieve the Item ID, Item Name, and Item Price columns\n",
    "\n",
    "\n",
    "* Group by Item ID and Item Name. Perform calculations to obtain purchase count, item price, and total purchase value\n",
    "\n",
    "\n",
    "* Create a summary data frame to hold the results\n",
    "\n",
    "\n",
    "* Sort the purchase count column in descending order\n",
    "\n",
    "\n",
    "* Optional: give the displayed data cleaner formatting\n",
    "\n",
    "\n",
    "* Display a preview of the summary data frame\n",
    "\n"
   ]
  },
  {
   "cell_type": "code",
   "execution_count": null,
   "metadata": {},
   "outputs": [],
   "source": []
  },
  {
   "cell_type": "markdown",
   "metadata": {},
   "source": [
    "## Most Profitable Items"
   ]
  },
  {
   "cell_type": "markdown",
   "metadata": {},
   "source": [
    "* Sort the above table by total purchase value in descending order\n",
    "\n",
    "\n",
    "* Optional: give the displayed data cleaner formatting\n",
    "\n",
    "\n",
    "* Display a preview of the data frame\n",
    "\n"
   ]
  },
  {
   "cell_type": "code",
   "execution_count": null,
   "metadata": {
    "scrolled": true
   },
   "outputs": [],
   "source": []
  }
 ],
 "metadata": {
  "anaconda-cloud": {},
  "kernel_info": {
   "name": "python3"
  },
  "kernelspec": {
   "display_name": "Python 3",
   "language": "python",
   "name": "python3"
  },
  "language_info": {
   "codemirror_mode": {
    "name": "ipython",
    "version": 3
   },
   "file_extension": ".py",
   "mimetype": "text/x-python",
   "name": "python",
   "nbconvert_exporter": "python",
   "pygments_lexer": "ipython3",
   "version": "3.7.4"
  },
  "latex_envs": {
   "LaTeX_envs_menu_present": true,
   "autoclose": false,
   "autocomplete": true,
   "bibliofile": "biblio.bib",
   "cite_by": "apalike",
   "current_citInitial": 1,
   "eqLabelWithNumbers": true,
   "eqNumInitial": 1,
   "hotkeys": {
    "equation": "Ctrl-E",
    "itemize": "Ctrl-I"
   },
   "labels_anchors": false,
   "latex_user_defs": false,
   "report_style_numbering": false,
   "user_envs_cfg": false
  },
  "nteract": {
   "version": "0.2.0"
  }
 },
 "nbformat": 4,
 "nbformat_minor": 4
}
